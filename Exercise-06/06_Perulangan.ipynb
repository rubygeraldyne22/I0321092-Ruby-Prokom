{
 "cells": [
  {
   "cell_type": "markdown",
   "metadata": {},
   "source": [
    "***\n",
    "<h1 align=\"center\">Exercise 06</h1>\n",
    " \n",
    "***\n",
    "## While Loop\n",
    "## Exercise 6.1\n",
    "isilah bagian rumpang berikut. xx diganti tanggal lahir dan yy diganti menjadi bulan lahir. tandanya menyesuaikan yang lebih besar."
   ]
  },
  {
   "cell_type": "code",
   "execution_count": 2,
   "metadata": {},
   "outputs": [
    {
     "name": "stdout",
     "output_type": "stream",
     "text": [
      "Always be kind\n",
      "Always be kind\n",
      "Always be kind\n",
      "Always be kind\n",
      "Always be kind\n",
      "Always be kind\n",
      "Always be kind\n",
      "Always be kind\n",
      "Always be kind\n",
      "Always be kind\n",
      "Always be kind\n",
      "Always be kind\n",
      "Always be kind\n",
      "Always be kind\n",
      "Always be kind\n",
      "Always be kind\n",
      "Always be kind\n",
      "Always be kind\n"
     ]
    }
   ],
   "source": [
    "#menentukan banyak pengulangan\n",
    "n = 22\n",
    "\n",
    "#melakukan pengulangan\n",
    "i = 5 \n",
    "\n",
    "while i <= n :\n",
    "    print (\"Always be kind\")\n",
    "    #diisi motto kalian\n",
    "    i = i + 1 # sesuaikan dengan atas agar fungsi perulangan dapat berhenti\n"
   ]
  },
  {
   "cell_type": "markdown",
   "metadata": {},
   "source": [
    "## Exercise 6.2\n",
    "\n",
    "Buatlah code seperti yang dicontohkan pada modul agar user dapat menginputkan sendiri jumlah n yang diinginkan"
   ]
  },
  {
   "cell_type": "code",
   "execution_count": 3,
   "metadata": {},
   "outputs": [
    {
     "name": "stdout",
     "output_type": "stream",
     "text": [
      "1\n",
      "2\n",
      "3\n",
      "4\n",
      "5\n",
      "6\n",
      "7\n",
      "8\n",
      "9\n",
      "10\n",
      "11\n",
      "12\n",
      "13\n",
      "14\n",
      "15\n",
      "16\n",
      "17\n",
      "18\n",
      "19\n",
      "20\n",
      "21\n",
      "22\n"
     ]
    }
   ],
   "source": [
    "#Kerjakan disini\n",
    "n = int(input(\"Masukkan angka: \"))\n",
    "i = 1\n",
    "\n",
    "while i <= n:\n",
    "    print (i)\n",
    "    i = i + 1"
   ]
  },
  {
   "cell_type": "markdown",
   "metadata": {},
   "source": [
    "## Excercise 6.3\n",
    "\n",
    "isilah xx, yy, dan tanda rumpang seperti pada exercise 6.1\n"
   ]
  },
  {
   "cell_type": "code",
   "execution_count": 5,
   "metadata": {},
   "outputs": [
    {
     "name": "stdout",
     "output_type": "stream",
     "text": [
      "Baris ke-5 : Redeeming Love\n",
      "Baris ke-6 : Redeeming Love\n",
      "Baris ke-7 : Redeeming Love\n",
      "Baris ke-8 : Redeeming Love\n",
      "Baris ke-9 : Redeeming Love\n",
      "Baris ke-10 : Redeeming Love\n",
      "Baris ke-11 : Redeeming Love\n",
      "Baris ke-12 : Redeeming Love\n",
      "Baris ke-13 : Redeeming Love\n",
      "Baris ke-14 : Redeeming Love\n",
      "Baris ke-15 : Redeeming Love\n",
      "Baris ke-16 : Redeeming Love\n",
      "Baris ke-17 : Redeeming Love\n",
      "Baris ke-18 : Redeeming Love\n",
      "Baris ke-19 : Redeeming Love\n",
      "Baris ke-20 : Redeeming Love\n",
      "Baris ke-21 : Redeeming Love\n",
      "Baris ke-22 : Redeeming Love\n",
      "Baris ke-23 : Redeeming Love\n",
      "Baris ke-24 : Redeeming Love\n",
      "Baris ke-25 : Redeeming Love\n",
      "Baris ke-26 : Redeeming Love\n"
     ]
    }
   ],
   "source": [
    "#melakukan pengulangan\n",
    "i = 5\n",
    "\n",
    "while i <= 26 :\n",
    "    print (\"Baris ke-%d : Redeeming Love\"%i)\n",
    "    #isi titik-titik dengan judul film favorit kalian\n",
    "    i = i + 1 "
   ]
  },
  {
   "cell_type": "markdown",
   "metadata": {},
   "source": [
    "## FOR LOOP\n",
    "\n",
    "## Exercise 6.4\n",
    "\n",
    "munculkan 3 dari 7 elemen yang berada di dalam list1 dan list2\n"
   ]
  },
  {
   "cell_type": "code",
   "execution_count": 8,
   "metadata": {},
   "outputs": [
    {
     "name": "stdout",
     "output_type": "stream",
     "text": [
      "5 bakso Denpasar\n",
      "6 steak Medan\n",
      "7 sup ayam Bandung\n"
     ]
    }
   ],
   "source": [
    "list1 = [\"Gado gado\", \"pizza\", \"mie\", \"pangsit\", \"bakso\", \"steak\", \"sup ayam\"] #masukkan 7 list makanan favorit kalian\n",
    "list2 = [\"Makassar\", \"Toraja\", \"Jogja\", \"Malang\", \"Denpasar\", \"Medan\", \"Bandung\"] #masukkan 7 list kota favorit kalian\n",
    "\n",
    "for i in range(4,7) :\n",
    "    print(i+1, list1[i] , list2[i])"
   ]
  },
  {
   "cell_type": "markdown",
   "metadata": {},
   "source": [
    "## Perulangan Bersarang\n",
    "\n",
    "## Exercise 6.5"
   ]
  },
  {
   "cell_type": "code",
   "execution_count": 18,
   "metadata": {},
   "outputs": [
    {
     "name": "stdout",
     "output_type": "stream",
     "text": [
      "484 \n",
      "\n",
      "\n",
      "\n",
      "\n",
      "\n",
      "\n",
      "\n",
      "\n",
      "\n",
      "\n",
      "\n",
      "\n",
      "\n",
      "\n",
      "\n",
      "\n",
      "\n"
     ]
    }
   ],
   "source": [
    "i = 22\n",
    "while i >= 5:\n",
    "    j = 22\n",
    "    while j<=i:\n",
    "        print(\"%d \" % (i*j), end = '')\n",
    "        j = j + 1\n",
    "    print()\n",
    "    i-=1"
   ]
  },
  {
   "cell_type": "markdown",
   "metadata": {},
   "source": [
    "## Pernyataan Loncat\n",
    "\n",
    "## Exercise 6.\n",
    "\n",
    "Buatlah fungsi berikut agar muncul angka hingga berhenti sesuai dengan nilai qq\n",
    "qq = angka favorit kalian\n",
    "pp>qq"
   ]
  },
  {
   "cell_type": "code",
   "execution_count": 14,
   "metadata": {},
   "outputs": [
    {
     "name": "stdout",
     "output_type": "stream",
     "text": [
      "012345"
     ]
    }
   ],
   "source": [
    "for i in range(22):\n",
    "    print(i,end='')\n",
    "    if i == 5:\n",
    "        break"
   ]
  },
  {
   "cell_type": "markdown",
   "metadata": {},
   "source": [
    "***\n",
    "<h1 align=\"center\">WELL DONE</h1>\n",
    " \n",
    "***"
   ]
  }
 ],
 "metadata": {
  "interpreter": {
   "hash": "cd08f94adcf3cbae37fe85286256f4c2a10455ca9094fd053e9f3d3f09647223"
  },
  "kernelspec": {
   "display_name": "Python 3.9.7 64-bit",
   "language": "python",
   "name": "python3"
  },
  "language_info": {
   "codemirror_mode": {
    "name": "ipython",
    "version": 3
   },
   "file_extension": ".py",
   "mimetype": "text/x-python",
   "name": "python",
   "nbconvert_exporter": "python",
   "pygments_lexer": "ipython3",
   "version": "3.9.7"
  },
  "orig_nbformat": 4
 },
 "nbformat": 4,
 "nbformat_minor": 2
}
